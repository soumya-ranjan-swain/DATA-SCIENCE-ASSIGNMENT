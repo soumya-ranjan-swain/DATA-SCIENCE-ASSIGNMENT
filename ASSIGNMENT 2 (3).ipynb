{
 "cells": [
  {
   "cell_type": "markdown",
   "id": "0cde5e9d",
   "metadata": {},
   "source": [
    "# 1.What are the two values of the Boolean data type? How do you write them?"
   ]
  },
  {
   "cell_type": "markdown",
   "id": "29c0cd98",
   "metadata": {},
   "source": [
    "True and False is the two values.\n",
    "1.true writeen as True\n",
    "2.false written as False\n"
   ]
  },
  {
   "cell_type": "markdown",
   "id": "b7193df1",
   "metadata": {},
   "source": [
    "# 2.What are the three different types of Boolean operators?"
   ]
  },
  {
   "cell_type": "markdown",
   "id": "3167766a",
   "metadata": {},
   "source": [
    "AND,OR NOT ARE 3 BOOLEAN OPERATORS,"
   ]
  },
  {
   "cell_type": "markdown",
   "id": "56dd3b86",
   "metadata": {},
   "source": [
    "# 3.Make a list of each Boolean operator&#39;s truth tables (i.e. every possible combination of Boolean values for the operator and what it evaluate )."
   ]
  },
  {
   "cell_type": "code",
   "execution_count": null,
   "id": "39cbb0ba",
   "metadata": {},
   "outputs": [],
   "source": [
    "AND OPERATION:\n",
    "    True and True is True.\n",
    "\n",
    "    True and False is False.\n",
    "\n",
    "    False and True is False.\n",
    "\n",
    "    False and False is False.\n",
    "OR OPERATION:\n",
    "    \n",
    "    True or True is True.\n",
    "\n",
    "    True or False is True.\n",
    "\n",
    "    False or True is True.\n",
    "\n",
    "    False or False is False.\n",
    "NOT OPERATION:\n",
    "    \n",
    "\n",
    "    not True is False.\n",
    "\n",
    "    not False is True."
   ]
  },
  {
   "cell_type": "markdown",
   "id": "464ccc1a",
   "metadata": {},
   "source": [
    "# 4.What are the values of the following expressions?\n",
    "# (5 > 4) and (3 == 5) not (5 > 4) (5 > 4) or (3 == 5) not ((5 > 4) or (3 == 5)) (True and True) and (True == False) (not False) or (not True)"
   ]
  },
  {
   "cell_type": "code",
   "execution_count": 1,
   "id": "af85535d",
   "metadata": {},
   "outputs": [
    {
     "data": {
      "text/plain": [
       "False"
      ]
     },
     "execution_count": 1,
     "metadata": {},
     "output_type": "execute_result"
    }
   ],
   "source": [
    "(5>4) and (3==5)"
   ]
  },
  {
   "cell_type": "code",
   "execution_count": 3,
   "id": "33f11a98",
   "metadata": {},
   "outputs": [
    {
     "data": {
      "text/plain": [
       "False"
      ]
     },
     "execution_count": 3,
     "metadata": {},
     "output_type": "execute_result"
    }
   ],
   "source": [
    "not (5 > 4) "
   ]
  },
  {
   "cell_type": "code",
   "execution_count": 4,
   "id": "37021887",
   "metadata": {},
   "outputs": [
    {
     "data": {
      "text/plain": [
       "True"
      ]
     },
     "execution_count": 4,
     "metadata": {},
     "output_type": "execute_result"
    }
   ],
   "source": [
    "(5 > 4) or (3 == 5)"
   ]
  },
  {
   "cell_type": "code",
   "execution_count": 5,
   "id": "ec85b82e",
   "metadata": {},
   "outputs": [
    {
     "data": {
      "text/plain": [
       "False"
      ]
     },
     "execution_count": 5,
     "metadata": {},
     "output_type": "execute_result"
    }
   ],
   "source": [
    "not ((5 > 4) or (3 == 5))"
   ]
  },
  {
   "cell_type": "code",
   "execution_count": 7,
   "id": "2032c33c",
   "metadata": {},
   "outputs": [
    {
     "data": {
      "text/plain": [
       "False"
      ]
     },
     "execution_count": 7,
     "metadata": {},
     "output_type": "execute_result"
    }
   ],
   "source": [
    "(True and True) and (True == False) "
   ]
  },
  {
   "cell_type": "code",
   "execution_count": 8,
   "id": "2a04bdf1",
   "metadata": {},
   "outputs": [
    {
     "data": {
      "text/plain": [
       "True"
      ]
     },
     "execution_count": 8,
     "metadata": {},
     "output_type": "execute_result"
    }
   ],
   "source": [
    "(not False) or (not True)"
   ]
  },
  {
   "cell_type": "markdown",
   "id": "df8aad92",
   "metadata": {},
   "source": [
    "# 5.What are the six comparison operators?"
   ]
  },
  {
   "cell_type": "code",
   "execution_count": null,
   "id": "14c518a9",
   "metadata": {},
   "outputs": [],
   "source": [
    "== for check equal or not\n",
    "!=-for not euqual\n",
    "<  --less than\n",
    "> -- greater than\n",
    "<= --less than equal\n",
    ">= --greater than equal"
   ]
  },
  {
   "cell_type": "markdown",
   "id": "314b3815",
   "metadata": {},
   "source": [
    "# 6. How do you tell the difference between the equal to and assignment operators?Describe a condition and when you would use one."
   ]
  },
  {
   "cell_type": "code",
   "execution_count": null,
   "id": "9bd0f9db",
   "metadata": {},
   "outputs": [],
   "source": [
    "== is used as equal operator and =  is used as assign operator\n",
    "1. equal operator is check the value of 2 variable is same or not and assign operator assign the value to variable\n",
    "\n"
   ]
  },
  {
   "cell_type": "code",
   "execution_count": 17,
   "id": "cb66798e",
   "metadata": {},
   "outputs": [
    {
     "data": {
      "text/plain": [
       "False"
      ]
     },
     "execution_count": 17,
     "metadata": {},
     "output_type": "execute_result"
    }
   ],
   "source": [
    "x=z=10\n",
    "y=20\n",
    "x==y\n",
    "in this x and y are assign as 10 and it also equal.\n",
    "but in y it is not equal ."
   ]
  },
  {
   "cell_type": "markdown",
   "id": "05892c60",
   "metadata": {},
   "source": [
    "# 7.Identify the three blocks in this code:\n",
    "spam = 0 if spam == 10: print('eggs') if spam > 5: print('bacon') else: print('ham') print('spam') print('spam')"
   ]
  },
  {
   "cell_type": "code",
   "execution_count": null,
   "id": "3daf543e",
   "metadata": {},
   "outputs": [],
   "source": [
    "three blocks are under the first if statmenet\n",
    "1st block is first if statement\n",
    "2nd block is under the ist if statement and it also if statement\n",
    "3rd block is else statement"
   ]
  },
  {
   "cell_type": "markdown",
   "id": "b239d560",
   "metadata": {},
   "source": [
    "# 8.Write code that prints Hello if 1 is stored in spam, prints Howdy if 2 is stored in spam, and prints Greetings! if anything else is stored in spam."
   ]
  },
  {
   "cell_type": "code",
   "execution_count": 19,
   "id": "9b427038",
   "metadata": {},
   "outputs": [
    {
     "name": "stdout",
     "output_type": "stream",
     "text": [
      "2\n",
      "Howdy\n"
     ]
    }
   ],
   "source": [
    "spam =int(input())\n",
    "if spam==1:\n",
    "    print(\"Hello\")\n",
    "elif spam==2:\n",
    "    print(\"Howdy\")\n",
    "else:\n",
    "    print(\"Greetings!\")"
   ]
  },
  {
   "cell_type": "markdown",
   "id": "6b468e69",
   "metadata": {},
   "source": [
    "# 9.If your programme is stuck in an endless loop, what keys you’ll press?"
   ]
  },
  {
   "cell_type": "code",
   "execution_count": null,
   "id": "9bd733c1",
   "metadata": {},
   "outputs": [],
   "source": [
    "Press CTRL+C to stop a program stuck in an infinite loop."
   ]
  },
  {
   "cell_type": "markdown",
   "id": "455b6063",
   "metadata": {},
   "source": [
    "# 10.How can you tell the difference between break and continue?"
   ]
  },
  {
   "cell_type": "code",
   "execution_count": null,
   "id": "a4ffd92a",
   "metadata": {},
   "outputs": [],
   "source": [
    "Break is used for stop the execution process and it comes out from loop\n",
    "continue is used for move the execution to start the loop\n",
    "in break do not execute while loop\n",
    "in continue execute while loop\n"
   ]
  },
  {
   "cell_type": "markdown",
   "id": "963ee643",
   "metadata": {},
   "source": [
    "# 11.In a for loop, what is the difference between range(10), range(0, 10), and range(0, 10, 1)?"
   ]
  },
  {
   "cell_type": "code",
   "execution_count": null,
   "id": "f88f6b85",
   "metadata": {},
   "outputs": [],
   "source": [
    "There is no differnce in this range(10) call ranges o to 10 it will print from 0 to 9 \n",
    "range(0,10) it call ranges 0 to 10 it will print 0 to 9\n",
    "range(0,10,1) it call from 0 to 10 and it increase by 1 it also print 0 to 9"
   ]
  },
  {
   "cell_type": "markdown",
   "id": "d1f9bcc4",
   "metadata": {},
   "source": [
    "# 12.Write a short program that prints the numbers 1 to 10 using a for loop. Then write an equivalent program that prints the numbers 1 to 10 using a while loop."
   ]
  },
  {
   "cell_type": "code",
   "execution_count": 21,
   "id": "d3c58c9c",
   "metadata": {},
   "outputs": [
    {
     "name": "stdout",
     "output_type": "stream",
     "text": [
      "0\n",
      "1\n",
      "2\n",
      "3\n",
      "4\n",
      "5\n",
      "6\n",
      "7\n",
      "8\n",
      "9\n",
      "10\n"
     ]
    }
   ],
   "source": [
    "for i in range(0,11):\n",
    "    print(i)"
   ]
  },
  {
   "cell_type": "code",
   "execution_count": 22,
   "id": "2b8cec0e",
   "metadata": {},
   "outputs": [
    {
     "name": "stdout",
     "output_type": "stream",
     "text": [
      "0\n",
      "1\n",
      "2\n",
      "3\n",
      "4\n",
      "5\n",
      "6\n",
      "7\n",
      "8\n",
      "9\n",
      "10\n"
     ]
    }
   ],
   "source": [
    "i=0\n",
    "while i<11:\n",
    "    print(i)\n",
    "    i=i+1"
   ]
  },
  {
   "cell_type": "markdown",
   "id": "5c1a04ea",
   "metadata": {},
   "source": [
    "# 13.If you had a function named bacon() inside a module named spam, how would you call it after importing spam?"
   ]
  },
  {
   "cell_type": "code",
   "execution_count": null,
   "id": "83debd07",
   "metadata": {},
   "outputs": [],
   "source": [
    "spam.bacon()\n",
    "it will be used to call bacon function."
   ]
  }
 ],
 "metadata": {
  "kernelspec": {
   "display_name": "Python 3",
   "language": "python",
   "name": "python3"
  },
  "language_info": {
   "codemirror_mode": {
    "name": "ipython",
    "version": 3
   },
   "file_extension": ".py",
   "mimetype": "text/x-python",
   "name": "python",
   "nbconvert_exporter": "python",
   "pygments_lexer": "ipython3",
   "version": "3.8.8"
  }
 },
 "nbformat": 4,
 "nbformat_minor": 5
}
