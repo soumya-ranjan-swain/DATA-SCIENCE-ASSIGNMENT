{
 "cells": [
  {
   "cell_type": "markdown",
   "id": "df9e3bca",
   "metadata": {},
   "source": [
    "# 1. In the below elements which of them are values or an expression? eg:- values can be integer or string and expressions will be mathematical operators.\n",
    "*\n",
    "&#39;hello&#39;\n",
    "-87.8\n",
    "-\n",
    "/\n",
    "+"
   ]
  },
  {
   "cell_type": "markdown",
   "id": "609e00ec",
   "metadata": {},
   "source": [
    "*,-,/,+=expression\n",
    "\"hello\",-87.8,6=values\n"
   ]
  },
  {
   "cell_type": "markdown",
   "id": "86db4b8b",
   "metadata": {},
   "source": [
    "# 2. What is the difference between string and variable?"
   ]
  },
  {
   "cell_type": "markdown",
   "id": "8d52d218",
   "metadata": {},
   "source": [
    "Variable-it is used as store of information\n",
    "String-it is the type of  information which we want to store\n",
    "x=\"soumya\"\n",
    "here x is variable\n",
    "soumya is string"
   ]
  },
  {
   "cell_type": "markdown",
   "id": "7a56262f",
   "metadata": {},
   "source": [
    "# 3. Describe three different data types."
   ]
  },
  {
   "cell_type": "markdown",
   "id": "0373ef95",
   "metadata": {},
   "source": [
    "3 data types:integer\n",
    "             string\n",
    "             floating\n",
    "integer=it take the decimal digit without decimal point\n",
    "x=123456\n",
    "string=it take the characters .it is written in thesingle or double quotes\n",
    "x=\"soumya\"\n",
    "floating=it take the decimal value with decimal point\n",
    "x=12.34\n"
   ]
  },
  {
   "cell_type": "markdown",
   "id": "d6fb461d",
   "metadata": {},
   "source": [
    "# 4.What is an expression made up of? What do all expressions do?"
   ]
  },
  {
   "cell_type": "markdown",
   "id": "a16e2575",
   "metadata": {},
   "source": [
    "expression is made up of variable,costant,operators.\n",
    "expression is used to evaluate the values.\n",
    "a=2+3"
   ]
  },
  {
   "cell_type": "markdown",
   "id": "b93e5f89",
   "metadata": {},
   "source": [
    "# 5.This assignment statements, like spam = 10. What is the difference between an expression and a statement?"
   ]
  },
  {
   "cell_type": "markdown",
   "id": "e9a45863",
   "metadata": {},
   "source": [
    "expression is made up of variable ,constant,operator but statement is the line which have to print\n",
    "spam=10is the expression\n",
    "print(spam) is the statement\n"
   ]
  },
  {
   "cell_type": "markdown",
   "id": "88ac7245",
   "metadata": {},
   "source": [
    "# 6.After running the following code, what does the variable bacon contain?bacon = 22  bacon + 1"
   ]
  },
  {
   "cell_type": "markdown",
   "id": "f1f11347",
   "metadata": {},
   "source": [
    "bacon=22\n",
    "bacon+1 is equal to bacon=bacon+1\n",
    "o/p=23\n"
   ]
  },
  {
   "cell_type": "markdown",
   "id": "ea1e0505",
   "metadata": {},
   "source": [
    "# 7.What should the values of the following two terms be?\n",
    "# \"spam\"+\"spamspam\"\n",
    "# \"spam\"*3"
   ]
  },
  {
   "cell_type": "markdown",
   "id": "0fdf5bee",
   "metadata": {},
   "source": [
    "\"spam\"+\"spamspam\"=\"spamspamspam\"\n",
    "\"spam\"*3=\"spamspamspam\""
   ]
  },
  {
   "cell_type": "markdown",
   "id": "7e1122c7",
   "metadata": {},
   "source": [
    "# 8.Why is eggs a valid variable name while 100 is invalid?"
   ]
  },
  {
   "cell_type": "markdown",
   "id": "54db1baf",
   "metadata": {},
   "source": [
    "100 is the integer type  which is not acceptable for creating variable.variable always start as string\n"
   ]
  },
  {
   "cell_type": "markdown",
   "id": "4b94bec1",
   "metadata": {},
   "source": [
    "# 9.What three functions can be used to get the integer, floating-point number, or string version of a value?"
   ]
  },
  {
   "cell_type": "markdown",
   "id": "23c9e81d",
   "metadata": {},
   "source": [
    "str()-for string\n",
    "int()-iteger\n",
    "float()-floating point\n"
   ]
  },
  {
   "cell_type": "markdown",
   "id": "bac1d051",
   "metadata": {},
   "source": [
    " # 10.Why does this expression cause an error? How can you fix it?\n",
    "#       'I have eaten' + 99 + 'burritos' "
   ]
  },
  {
   "cell_type": "markdown",
   "id": "42b8dcad",
   "metadata": {},
   "source": [
    "99 is the integer it can not be concanated with string.so it give error .to fix this error we have to do type casting ,change the data type of 99 from integer to string."
   ]
  }
 ],
 "metadata": {
  "kernelspec": {
   "display_name": "Python 3",
   "language": "python",
   "name": "python3"
  },
  "language_info": {
   "codemirror_mode": {
    "name": "ipython",
    "version": 3
   },
   "file_extension": ".py",
   "mimetype": "text/x-python",
   "name": "python",
   "nbconvert_exporter": "python",
   "pygments_lexer": "ipython3",
   "version": "3.8.8"
  }
 },
 "nbformat": 4,
 "nbformat_minor": 5
}
